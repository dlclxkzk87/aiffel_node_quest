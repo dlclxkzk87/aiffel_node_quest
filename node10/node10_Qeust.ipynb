{
  "nbformat": 4,
  "nbformat_minor": 0,
  "metadata": {
    "colab": {
      "provenance": [],
      "mount_file_id": "1BWEwc4lSm-0vr8IommzpFtYRX6urzBeB",
      "authorship_tag": "ABX9TyNgqJ9z4Pb7IyRGuWAutSK1",
      "include_colab_link": true
    },
    "kernelspec": {
      "name": "python3",
      "display_name": "Python 3"
    },
    "language_info": {
      "name": "python"
    }
  },
  "cells": [
    {
      "cell_type": "markdown",
      "metadata": {
        "id": "view-in-github",
        "colab_type": "text"
      },
      "source": [
        "<a href=\"https://colab.research.google.com/github/dlclxkzk87/aiffel_node_quest/blob/main/node10/node10_Qeust.ipynb\" target=\"_parent\"><img src=\"https://colab.research.google.com/assets/colab-badge.svg\" alt=\"Open In Colab\"/></a>"
      ]
    },
    {
      "cell_type": "markdown",
      "source": [
        "평가문항\n",
        "===\n",
        "1. 프로젝트 1번에서 평행사변형, 사다리꼴 넓이를 구하는 메서드를 직접 작성할 수 있다.   \n",
        "2. 프로젝트 2번에서 Kiosk 클래스를 생성하고, 주문, 추가 주문 메서드를 적절하게 구현할 수 있다.   \n",
        "3. 프로젝트 2번의 지불, 주문표 작성 메서드를 적절하게 구현할 수 있다."
      ],
      "metadata": {
        "id": "B-K2FwDB1j9U"
      }
    },
    {
      "cell_type": "code",
      "source": [
        "# 1번\n",
        "class Square:\n",
        "    def __init__(self):\n",
        "        square = int(input('넓이를 구하고 싶은 사각형의 숫자를 써주세요.\\n 1.직사각형 2.평행사변형 3.사다리꼴 \\n >>>'))\n",
        "\n",
        "        if square == 1:\n",
        "            print('직사각형 함수는 rect()입니다.')\n",
        "\n",
        "        elif square == 2:\n",
        "            print('평행사변형 함수는 par()입니다.')\n",
        "\n",
        "        elif square == 3:\n",
        "            print('사다리꼴 함수는 trape()입니다.')\n",
        "\n",
        "        else:\n",
        "            print('1, 2, 3 중에서 다시 입력해주세요')\n",
        "\n",
        "    def rect(self):\n",
        "        width, vertical = map(int, input('가로, 세로를 입력하세요. 예시 : 가로,세로\\n >>>').split(','))\n",
        "        area = width * vertical\n",
        "        result = '직사각형의 넓이는 : ' + str(area)\n",
        "        return result\n",
        "\n",
        "    def par(self):\n",
        "        lower, height = map(int,input(\"밑변, 높이 입력하세요. 예시 : 밑변,높이\\n >>>\").split(','))\n",
        "        area = lower * height\n",
        "        result = \"평형사변형 널비는 : \" + str(area)\n",
        "        return result\n",
        "\n",
        "    def trape(self):\n",
        "        lower, upper, height = map(int,input(\"밑변, 윗변, 높이 입력하세요. 예시 : 밑변,윗변,높이\\n >>>\").split(','))\n",
        "        area = (lower + upper) * height / 2\n",
        "        result = \"사다리꼴 넓이는 : \" + str(area)\n",
        "        return result\n",
        "\n",
        "a = Square()  # 객체 생성 & 2, 3을 각각 입력해 봅시다.\n"
      ],
      "metadata": {
        "colab": {
          "base_uri": "https://localhost:8080/"
        },
        "id": "_8Wj1oKJ1uyo",
        "outputId": "dab4fef2-30e2-4fa7-96b6-1b6a075da208"
      },
      "execution_count": 2,
      "outputs": [
        {
          "output_type": "stream",
          "name": "stdout",
          "text": [
            "넓이를 구하고 싶은 사각형의 숫자를 써주세요.\n",
            " 1.직사각형 2.평행사변형 3.사다리꼴 \n",
            " >>>1\n",
            "직사각형 함수는 rect()입니다.\n"
          ]
        }
      ]
    },
    {
      "cell_type": "code",
      "source": [
        "# 평형사변형의 넓이\n",
        "a = Square()\n",
        "a.par()  # 3,2를 입력했을 때 넓이가 6이 나와야 합니다."
      ],
      "metadata": {
        "colab": {
          "base_uri": "https://localhost:8080/",
          "height": 148
        },
        "id": "sV2tI__g14iu",
        "outputId": "e66147e8-7146-4324-ae2b-082585cc3355"
      },
      "execution_count": 3,
      "outputs": [
        {
          "name": "stdout",
          "output_type": "stream",
          "text": [
            "넓이를 구하고 싶은 사각형의 숫자를 써주세요.\n",
            " 1.직사각형 2.평행사변형 3.사다리꼴 \n",
            " >>>2\n",
            "평행사변형 함수는 par()입니다.\n",
            "밑변, 높이 입력하세요. 예시 : 밑변,높이\n",
            " >>>3,5\n"
          ]
        },
        {
          "output_type": "execute_result",
          "data": {
            "text/plain": [
              "'평형사변형 널비는 : 15'"
            ],
            "application/vnd.google.colaboratory.intrinsic+json": {
              "type": "string"
            }
          },
          "metadata": {},
          "execution_count": 3
        }
      ]
    },
    {
      "cell_type": "code",
      "source": [
        "# 사다리꼴의 넓이\n",
        "a = Square()\n",
        "a.trape()  # 3,2,1 을 입력했을 때 넓이가 2.5이 나와야 합니다."
      ],
      "metadata": {
        "colab": {
          "base_uri": "https://localhost:8080/",
          "height": 148
        },
        "id": "5z1WQ1Ej2DDi",
        "outputId": "229224d0-f08f-40db-bbcc-0c7f0fa7f31e"
      },
      "execution_count": 4,
      "outputs": [
        {
          "name": "stdout",
          "output_type": "stream",
          "text": [
            "넓이를 구하고 싶은 사각형의 숫자를 써주세요.\n",
            " 1.직사각형 2.평행사변형 3.사다리꼴 \n",
            " >>>3\n",
            "사다리꼴 함수는 trape()입니다.\n",
            "밑변, 윗변, 높이 입력하세요. 예시 : 밑변,윗변,높이\n",
            " >>>3,2,1\n"
          ]
        },
        {
          "output_type": "execute_result",
          "data": {
            "text/plain": [
              "'사다리꼴 넓이는 : 2.5'"
            ],
            "application/vnd.google.colaboratory.intrinsic+json": {
              "type": "string"
            }
          },
          "metadata": {},
          "execution_count": 4
        }
      ]
    },
    {
      "cell_type": "code",
      "source": [
        "# 2\n",
        "menu = ['americano', 'latte', 'mocha', 'yuza_tea', 'green_tea', 'choco_latte']\n",
        "price = [2000, 3000, 3000, 2500, 2500, 3000]\n",
        "\n",
        "class Kiosk:\n",
        "    def __init__(self):\n",
        "        self.menu = menu\n",
        "        self.price = price\n",
        "\n",
        "    # 메뉴 출력 메서드\n",
        "    def menu_print(self):\n",
        "        for i in range(len(self.menu)):\n",
        "            print(i+1, self.menu[i], ' : ', self.price[i], '원')\n",
        "\n",
        "    # 주문 메서드\n",
        "    def menu_select(self):\n",
        "        self.order_menu = []  # 주문 리스트\n",
        "        self.order_price = []  # 가격 리스트\n",
        "\n",
        "        n = 0\n",
        "        while n < 1 or len(menu) < n:\n",
        "            n = int(input(\"음료를 번호를 입력하세요 : \"))  # 음료 번호 입력\n",
        "            if 1 <= n & n <= len(menu):\n",
        "                self.order_price.append(self.price[n-1])  # 가격 리스트에 추가합니다.\n",
        "                self.price_sum = self.price[n-1]  # 합계 금액\n",
        "            else:\n",
        "                print(\"없는 메뉴입니다. 다시 주문해 주세요.\")\n",
        "\n",
        "        t = 0  # 기본값을 넣어주고\n",
        "        while t != 1 and t != 2:  # 1이나 2를 입력할 때까지 물어보기\n",
        "            t= int(input(\"HOT 음료는 1을, ICE 음료는 2를 입력하세요 : \"))\n",
        "            # 문제 2-3의 답을 입력하세요.\n",
        "            if t == 1 :\n",
        "                self.temp = \"HOT\"\n",
        "            elif t == 2 :\n",
        "                self.temp = \"ICE\"\n",
        "            else:\n",
        "                print(\"1과 2 중 하나를 입력하세요.\\n\")\n",
        "\n",
        "        self.order_menu.append(self.temp + ' ' + self.menu[n-1])  # 주문 리스트에 추가합니다.\n",
        "        print(self.temp, self.temp, self.menu[n-1], ' : ', self.price[n-1], '원')  # 온도 속성을 추가한 주문 결과를 출력합니다.\n",
        "\n",
        "        while n != 0:  # 지불을 선택하기 전까지 반복합니다.\n",
        "            print()  # 줄 바꾸면서\n",
        "            n = int(input(\"추가 주문은 음료 번호를, 지불은 0을 누르세요 : \"))  # 추가 주문 또는 지불\n",
        "            if n > 0 and n < len(self.menu) + 1:\n",
        "                t = 0\n",
        "                while t != 1 and t != 2:\n",
        "                    t = int(input(\"HOT 음료는 1을, ICE 음료는 2를 입력하세요 : \"))\n",
        "                    if t == 1 :\n",
        "                        self.temp = \"HOT\"\n",
        "                    elif t == 2 :\n",
        "                        self.temp = \"ICE\"\n",
        "                    else:\n",
        "                        print(\"1과 2 중 하나를 입력하세요.\\n\")\n",
        "\n",
        "                self.order_menu.append(self.temp + ' ' + self.menu[n-1])  # 주문 리스트에 추가합니다.\n",
        "                self.order_price.append(self.price[n-1])  # 가격 리스트에 추가합니다.\n",
        "                self.price_sum += self.price[n-1]  # 합계 금액 업데이트\n",
        "                print('추가 주문 음료', self.temp, self.menu[n-1], ':', self.price[n-1], '원\\n', '합계 :', self.price_sum, '원')\n",
        "            else :\n",
        "                if n == 0 :  # 지불을 입력하면\n",
        "                    print(\"주문이 완료되었습니다.\")\n",
        "                    print(self.order_menu, self.order_price)  # 확인을 위한 리스트를 출력합니다.\n",
        "                else :  # 없는 번호를 입력할 때\n",
        "                    print(\"없는 메뉴입니다. 다시 주문해 주세요.\")\n",
        "\n",
        "    # 지불\n",
        "    def pay(self) :\n",
        "        while True:\n",
        "            payment_method = input(\"지불 방식을 선택해주세요 (현금 : cash 또는 '1', 카드 : 'card' 또는 '2') :\")\n",
        "            if payment_method in ['cash', '1']:\n",
        "                print('직원을 호출하겠습니다.')\n",
        "                break\n",
        "            elif payment_method in ['card', '2']:\n",
        "                print('IC칩 방향에 맞게 카드를 꽂아주세요.')\n",
        "                break\n",
        "            else:\n",
        "                print(\"다시 결제를 시도해 주세요.\")\n",
        "\n",
        "    # 주문서 출력\n",
        "    def table(self) :\n",
        "        print('⟝' + '-' * 30 + '⟞')\n",
        "        for i in range(5):\n",
        "            print('|' + ' ' * 31 + '|')\n",
        "        for i in range(len(self.order_menu)) :\n",
        "            print(self.order_menu[i], ' : ', self.order_price[i], '원')\n",
        "        print('합계 금액 : ', sum(self.order_price))\n",
        "        for i in range(5):\n",
        "            print('|' + ' ' * 31+ '|')\n",
        "        print('⟝' + '-' * 30 + '⟞')"
      ],
      "metadata": {
        "id": "9LYAbS2i2J47"
      },
      "execution_count": 5,
      "outputs": []
    },
    {
      "cell_type": "code",
      "source": [
        "a = Kiosk()  # 객체 생성\n",
        "a.menu_print()  # 메뉴 출력\n",
        "a.menu_select()  # 주문\n",
        "a.pay()  # 지불\n",
        "a.table()  # 주문표 출력"
      ],
      "metadata": {
        "colab": {
          "base_uri": "https://localhost:8080/"
        },
        "id": "S61Licfz2Y31",
        "outputId": "952b22a5-9ab4-4191-b1e2-d9c0e1ad1ac2"
      },
      "execution_count": 6,
      "outputs": [
        {
          "output_type": "stream",
          "name": "stdout",
          "text": [
            "1 americano  :  2000 원\n",
            "2 latte  :  3000 원\n",
            "3 mocha  :  3000 원\n",
            "4 yuza_tea  :  2500 원\n",
            "5 green_tea  :  2500 원\n",
            "6 choco_latte  :  3000 원\n",
            "음료를 번호를 입력하세요 : 2\n",
            "HOT 음료는 1을, ICE 음료는 2를 입력하세요 : 1\n",
            "HOT HOT latte  :  3000 원\n",
            "\n",
            "추가 주문은 음료 번호를, 지불은 0을 누르세요 : 6\n",
            "HOT 음료는 1을, ICE 음료는 2를 입력하세요 : 2\n",
            "추가 주문 음료 ICE choco_latte : 3000 원\n",
            " 합계 : 6000 원\n",
            "\n",
            "추가 주문은 음료 번호를, 지불은 0을 누르세요 : 1\n",
            "HOT 음료는 1을, ICE 음료는 2를 입력하세요 : 2\n",
            "추가 주문 음료 ICE americano : 2000 원\n",
            " 합계 : 8000 원\n",
            "\n",
            "추가 주문은 음료 번호를, 지불은 0을 누르세요 : 0\n",
            "주문이 완료되었습니다.\n",
            "['HOT latte', 'ICE choco_latte', 'ICE americano'] [3000, 3000, 2000]\n",
            "지불 방식을 선택해주세요 (현금 : cash 또는 '1', 카드 : 'card' 또는 '2') :1\n",
            "직원을 호출하겠습니다.\n",
            "⟝------------------------------⟞\n",
            "|                               |\n",
            "|                               |\n",
            "|                               |\n",
            "|                               |\n",
            "|                               |\n",
            "HOT latte  :  3000 원\n",
            "ICE choco_latte  :  3000 원\n",
            "ICE americano  :  2000 원\n",
            "합계 금액 :  8000\n",
            "|                               |\n",
            "|                               |\n",
            "|                               |\n",
            "|                               |\n",
            "|                               |\n",
            "⟝------------------------------⟞\n"
          ]
        }
      ]
    }
  ]
}